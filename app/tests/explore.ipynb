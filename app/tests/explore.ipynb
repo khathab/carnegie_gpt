{
 "cells": [
  {
   "cell_type": "code",
   "execution_count": 3,
   "metadata": {},
   "outputs": [],
   "source": [
    "from elevenlabs.api import Models\n",
    "from elevenlabs import set_api_key"
   ]
  },
  {
   "cell_type": "code",
   "execution_count": null,
   "metadata": {},
   "outputs": [],
   "source": [
    "set_api_key(\"80063d1233175c84923b98299d559d11\")"
   ]
  },
  {
   "cell_type": "code",
   "execution_count": 6,
   "metadata": {},
   "outputs": [
    {
     "ename": "APIError",
     "evalue": "User not found, it is likely still being created.",
     "output_type": "error",
     "traceback": [
      "\u001b[1;31m---------------------------------------------------------------------------\u001b[0m",
      "\u001b[1;31mAPIError\u001b[0m                                  Traceback (most recent call last)",
      "\u001b[1;32mc:\\Users\\khath\\OneDrive\\Desktop\\Projects\\Win_Friends_GPT\\app\\tests\\explore.ipynb Cell 2\u001b[0m line \u001b[0;36m1\n\u001b[1;32m----> <a href='vscode-notebook-cell:/c%3A/Users/khath/OneDrive/Desktop/Projects/Win_Friends_GPT/app/tests/explore.ipynb#W1sZmlsZQ%3D%3D?line=0'>1</a>\u001b[0m Models\u001b[39m.\u001b[39;49mfrom_api()\n",
      "File \u001b[1;32mc:\\Users\\khath\\OneDrive\\Desktop\\Projects\\Win_Friends_GPT\\venv\\lib\\site-packages\\elevenlabs\\api\\model.py:21\u001b[0m, in \u001b[0;36mModels.from_api\u001b[1;34m(cls)\u001b[0m\n\u001b[0;32m     18\u001b[0m \u001b[39m@classmethod\u001b[39m\n\u001b[0;32m     19\u001b[0m \u001b[39mdef\u001b[39;00m \u001b[39mfrom_api\u001b[39m(\u001b[39mcls\u001b[39m) \u001b[39m-\u001b[39m\u001b[39m>\u001b[39m Models:\n\u001b[0;32m     20\u001b[0m     url \u001b[39m=\u001b[39m \u001b[39mf\u001b[39m\u001b[39m\"\u001b[39m\u001b[39m{\u001b[39;00mapi_base_url_v1\u001b[39m}\u001b[39;00m\u001b[39m/models\u001b[39m\u001b[39m\"\u001b[39m\n\u001b[1;32m---> 21\u001b[0m     response \u001b[39m=\u001b[39m \u001b[39mcls\u001b[39;49m\u001b[39m.\u001b[39;49mget(url)\u001b[39m.\u001b[39mjson()\n\u001b[0;32m     22\u001b[0m     \u001b[39mreturn\u001b[39;00m \u001b[39mcls\u001b[39m(models\u001b[39m=\u001b[39mresponse)\n",
      "File \u001b[1;32mc:\\Users\\khath\\OneDrive\\Desktop\\Projects\\Win_Friends_GPT\\venv\\lib\\site-packages\\elevenlabs\\api\\base.py:71\u001b[0m, in \u001b[0;36mAPI.get\u001b[1;34m(url, *args, **kwargs)\u001b[0m\n\u001b[0;32m     69\u001b[0m \u001b[39m@staticmethod\u001b[39m\n\u001b[0;32m     70\u001b[0m \u001b[39mdef\u001b[39;00m \u001b[39mget\u001b[39m(url: \u001b[39mstr\u001b[39m, \u001b[39m*\u001b[39margs, \u001b[39m*\u001b[39m\u001b[39m*\u001b[39mkwargs):\n\u001b[1;32m---> 71\u001b[0m     \u001b[39mreturn\u001b[39;00m API\u001b[39m.\u001b[39mrequest(url, method\u001b[39m=\u001b[39m\u001b[39m\"\u001b[39m\u001b[39mget\u001b[39m\u001b[39m\"\u001b[39m, \u001b[39m*\u001b[39margs, \u001b[39m*\u001b[39m\u001b[39m*\u001b[39mkwargs)\n",
      "File \u001b[1;32mc:\\Users\\khath\\OneDrive\\Desktop\\Projects\\Win_Friends_GPT\\venv\\lib\\site-packages\\elevenlabs\\api\\base.py:67\u001b[0m, in \u001b[0;36mAPI.request\u001b[1;34m(url, method, api_key, **kwargs)\u001b[0m\n\u001b[0;32m     64\u001b[0m     \u001b[39melif\u001b[39;00m status \u001b[39m==\u001b[39m \u001b[39m\"\u001b[39m\u001b[39mneeds_authorization\u001b[39m\u001b[39m\"\u001b[39m:\n\u001b[0;32m     65\u001b[0m         \u001b[39mraise\u001b[39;00m AuthorizationError(message)\n\u001b[1;32m---> 67\u001b[0m \u001b[39mraise\u001b[39;00m APIError(message, status)\n",
      "\u001b[1;31mAPIError\u001b[0m: User not found, it is likely still being created."
     ]
    }
   ],
   "source": [
    "Models.from_api()"
   ]
  }
 ],
 "metadata": {
  "kernelspec": {
   "display_name": "venv",
   "language": "python",
   "name": "python3"
  },
  "language_info": {
   "codemirror_mode": {
    "name": "ipython",
    "version": 3
   },
   "file_extension": ".py",
   "mimetype": "text/x-python",
   "name": "python",
   "nbconvert_exporter": "python",
   "pygments_lexer": "ipython3",
   "version": "3.10.4"
  },
  "orig_nbformat": 4
 },
 "nbformat": 4,
 "nbformat_minor": 2
}
